{
 "cells": [
  {
   "cell_type": "markdown",
   "metadata": {},
   "source": [
    "# 1"
   ]
  },
  {
   "cell_type": "code",
   "execution_count": 1,
   "metadata": {},
   "outputs": [
    {
     "name": "stdout",
     "output_type": "stream",
     "text": [
      "Enter a number : 175\n",
      "length :  3\n",
      "175\n",
      "Disarium number\n"
     ]
    }
   ],
   "source": [
    "k=int(input(\"Enter a number : \"))\n",
    "l=len(str(k))\n",
    "print(\"length : \",l)\n",
    "num=k\n",
    "s=0\n",
    "r=0\n",
    "while(k>0):\n",
    "    r=k%10\n",
    "    s=s+int(r**l)\n",
    "    k=k//10\n",
    "    l-=1\n",
    "print(s)\n",
    "if (s==num):\n",
    "    print(\"Disarium number\")\n",
    "else:\n",
    "    print(\"Not a Disarium number\")\n",
    "    "
   ]
  },
  {
   "cell_type": "markdown",
   "metadata": {},
   "source": [
    "# 2"
   ]
  },
  {
   "cell_type": "code",
   "execution_count": 6,
   "metadata": {},
   "outputs": [
    {
     "name": "stdout",
     "output_type": "stream",
     "text": [
      "1\n",
      "2\n",
      "3\n",
      "4\n",
      "5\n",
      "6\n",
      "7\n",
      "8\n",
      "9\n",
      "89\n"
     ]
    }
   ],
   "source": [
    "\n",
    "def leng1(n):\n",
    "    l=0\n",
    "    l=len(str(n))\n",
    "    return (l)\n",
    "\n",
    "def disarium(num):\n",
    "    s=0\n",
    "    r=0\n",
    "    len1=leng1(num)\n",
    "    \n",
    "    while(num>0):\n",
    "        r=num%10\n",
    "        s=s+(r**len1)\n",
    "        num=num//10\n",
    "        len1-=1\n",
    "    return s\n",
    "\n",
    "res=0\n",
    "for i in range(1,101):\n",
    "    res=disarium(i)\n",
    "    if (res==i):\n",
    "        print(i)"
   ]
  },
  {
   "cell_type": "markdown",
   "metadata": {},
   "source": [
    "# 3"
   ]
  },
  {
   "cell_type": "code",
   "execution_count": 17,
   "metadata": {},
   "outputs": [
    {
     "name": "stdout",
     "output_type": "stream",
     "text": [
      "enter a number : 100\n",
      "100  is Happy number\n"
     ]
    }
   ],
   "source": [
    "def happy(num):\n",
    "    s=0\n",
    "    r=0\n",
    "    \n",
    "    while(num>0):\n",
    "        r=num%10\n",
    "        s=s+(r**2)\n",
    "        num=num//10\n",
    "    return s\n",
    "n=int(input(\"enter a number : \"))\n",
    "num1=n\n",
    "\n",
    "k=happy(n)\n",
    "if (k==1):\n",
    "    print (n,\" is Happy number\")\n",
    "else:\n",
    "    print (n,\"is not a Happy Number\")\n",
    "\n",
    "    "
   ]
  },
  {
   "cell_type": "markdown",
   "metadata": {},
   "source": [
    "# 4"
   ]
  },
  {
   "cell_type": "code",
   "execution_count": 4,
   "metadata": {},
   "outputs": [
    {
     "name": "stdout",
     "output_type": "stream",
     "text": [
      "1  is Happy number\n",
      "7  is Happy number\n",
      "10  is Happy number\n",
      "13  is Happy number\n",
      "19  is Happy number\n",
      "23  is Happy number\n",
      "28  is Happy number\n",
      "31  is Happy number\n",
      "32  is Happy number\n",
      "44  is Happy number\n",
      "49  is Happy number\n",
      "68  is Happy number\n",
      "70  is Happy number\n",
      "79  is Happy number\n",
      "82  is Happy number\n",
      "86  is Happy number\n",
      "91  is Happy number\n",
      "94  is Happy number\n",
      "97  is Happy number\n",
      "100  is Happy number\n"
     ]
    }
   ],
   "source": [
    "def happy(num):\n",
    "    s=0\n",
    "    r=0\n",
    "    \n",
    "    while(num>0):\n",
    "        r=num%10\n",
    "        s=s+(r**2)\n",
    "        num=num//10\n",
    "    return s\n",
    "\n",
    "for i in range(1,101):\n",
    "    k=i\n",
    "    while(k!=1 and k!=4):\n",
    "        k=happy(k)\n",
    "    if (k==1):\n",
    "        print (i,\" is Happy number\")\n",
    "    "
   ]
  },
  {
   "cell_type": "markdown",
   "metadata": {},
   "source": [
    "# 5"
   ]
  },
  {
   "cell_type": "code",
   "execution_count": 10,
   "metadata": {},
   "outputs": [
    {
     "name": "stdout",
     "output_type": "stream",
     "text": [
      "enter a number : 55\n",
      "55 is not a Harshad Number\n"
     ]
    }
   ],
   "source": [
    "def harshad(num):\n",
    "    s=0\n",
    "    r=0\n",
    "    \n",
    "    while(num>0):\n",
    "        r=num%10\n",
    "        s=s+r\n",
    "        num=num//10\n",
    "    return s\n",
    "n=int(input(\"enter a number : \"))\n",
    "num1=n\n",
    "\n",
    "k=harshad(n)\n",
    "if (num1%k==0):\n",
    "    print (n,\" is Harshad number\")\n",
    "else:\n",
    "    print (n,\"is not a Harshad Number\")\n",
    "\n",
    "    "
   ]
  },
  {
   "cell_type": "markdown",
   "metadata": {},
   "source": [
    "# 6"
   ]
  },
  {
   "cell_type": "code",
   "execution_count": 16,
   "metadata": {},
   "outputs": [
    {
     "name": "stdout",
     "output_type": "stream",
     "text": [
      "enter a number : 14\n",
      "14 is not pronic\n"
     ]
    }
   ],
   "source": [
    "def pronic(num):\n",
    "    k=0\n",
    "    for i in range(n):\n",
    "        if (i*(i+1)==n):\n",
    "            k=1\n",
    "    return k\n",
    "n=int(input(\"enter a number : \"))\n",
    "num1=n\n",
    "res=pronic(n)\n",
    "if (res==1):\n",
    "    print(n, \" is pronic\")\n",
    "else:\n",
    "    print(n ,\"is not pronic\")"
   ]
  }
 ],
 "metadata": {
  "kernelspec": {
   "display_name": "Python 3",
   "language": "python",
   "name": "python3"
  },
  "language_info": {
   "codemirror_mode": {
    "name": "ipython",
    "version": 3
   },
   "file_extension": ".py",
   "mimetype": "text/x-python",
   "name": "python",
   "nbconvert_exporter": "python",
   "pygments_lexer": "ipython3",
   "version": "3.8.5"
  }
 },
 "nbformat": 4,
 "nbformat_minor": 4
}
