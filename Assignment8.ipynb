{
 "cells": [
  {
   "cell_type": "markdown",
   "metadata": {},
   "source": [
    "# 1"
   ]
  },
  {
   "cell_type": "code",
   "execution_count": 24,
   "metadata": {},
   "outputs": [
    {
     "name": "stdout",
     "output_type": "stream",
     "text": [
      "Enter number of rows for mat1 : 2\n",
      "Enter number of columns for mat1 : 3\n",
      "Enter elements row wise: \n",
      "1\n",
      "2\n",
      "3\n",
      "4\n",
      "4\n",
      "5\n",
      "1 2 3 \n",
      "4 4 5 \n",
      "Enter number of rows for mat2 : 2\n",
      "Enter number of columns for mat2: 3\n",
      "Enter elements row wise: \n",
      "1\n",
      "2\n",
      "3\n",
      "4\n",
      "5\n",
      "6\n",
      "1 2 3 \n",
      "4 5 6 \n",
      "Matrix addition is : [[2, 4, 6], [8, 9, 11]]\n"
     ]
    }
   ],
   "source": [
    "r1=int(input(\"Enter number of rows for mat1 : \"))\n",
    "c1=int(input(\"Enter number of columns for mat1 : \"))\n",
    "mat1=[]\n",
    "print(\"Enter elements row wise: \")\n",
    "for i in range(r1):          \n",
    "    a1 =[]\n",
    "    for j in range(c1):      \n",
    "         a1.append(int(input()))\n",
    "    mat1.append(a1)\n",
    "    \n",
    "for i in range(r1):\n",
    "    for j in range(c1):\n",
    "        print(mat1[i][j],end = \" \")\n",
    "    print()\n",
    "    \n",
    "r2=int(input(\"Enter number of rows for mat2 : \"))\n",
    "c2=int(input(\"Enter number of columns for mat2: \"))\n",
    "mat2=[]\n",
    "print(\"Enter elements row wise: \")\n",
    "for i in range(r2):          \n",
    "    a2 =[]\n",
    "    for j in range(c2):      \n",
    "         a2.append(int(input()))\n",
    "    mat2.append(a2)\n",
    "\n",
    "for i in range(r2):\n",
    "    for j in range(c2):\n",
    "        print(mat2[i][j],end = \" \")\n",
    "    print()\n",
    "\n",
    "\n",
    "result=[]\n",
    "for i in range(len(mat1)):  \n",
    "    res=[]\n",
    "    for j in range(len(mat1[0])):  \n",
    "        res.append( mat1[i][j] + mat2[i][j]  )\n",
    "    result.append(res)\n",
    "print(\"Matrix addition is :\" ,result)\n"
   ]
  },
  {
   "cell_type": "markdown",
   "metadata": {},
   "source": [
    "# 2\n"
   ]
  },
  {
   "cell_type": "code",
   "execution_count": 35,
   "metadata": {},
   "outputs": [
    {
     "name": "stdout",
     "output_type": "stream",
     "text": [
      "Enter number of rows for mat1 : 2\n",
      "Enter number of columns for mat1 : 2\n",
      "Enter elements row wise: \n",
      "2\n",
      "1\n",
      "3\n",
      "4\n",
      "2 1 \n",
      "3 4 \n",
      "Enter number of rows for mat2 : 2\n",
      "Enter number of columns for mat2: 2\n",
      "Enter elements row wise: \n",
      "3\n",
      "4\n",
      "1\n",
      "2\n",
      "3 4 \n",
      "1 2 \n",
      "Matrix multiplication is : [[7, 10], [13, 20]]\n"
     ]
    }
   ],
   "source": [
    "r1=int(input(\"Enter number of rows for mat1 : \"))\n",
    "c1=int(input(\"Enter number of columns for mat1 : \"))\n",
    "mat1=[]\n",
    "print(\"Enter elements row wise: \")\n",
    "for i in range(r1):          \n",
    "    a1 =[]\n",
    "    for j in range(c1):      \n",
    "         a1.append(int(input()))\n",
    "    mat1.append(a1)\n",
    "    \n",
    "for i in range(r1):\n",
    "    for j in range(c1):\n",
    "        print(mat1[i][j],end = \" \")\n",
    "    print()\n",
    "    \n",
    "r2=int(input(\"Enter number of rows for mat2 : \"))\n",
    "c2=int(input(\"Enter number of columns for mat2: \"))\n",
    "mat2=[]\n",
    "print(\"Enter elements row wise: \")\n",
    "for i in range(r2):          \n",
    "    a2 =[]\n",
    "    for j in range(c2):      \n",
    "         a2.append(int(input()))\n",
    "    mat2.append(a2)\n",
    "\n",
    "for i in range(r2):\n",
    "    for j in range(c2):\n",
    "        print(mat2[i][j],end = \" \")\n",
    "    print()\n",
    "\n",
    "if (c1==r2):\n",
    "    result=[]\n",
    "    for i in range(c1):  \n",
    "        res=[]\n",
    "        for j in range(r2): \n",
    "            mul=0\n",
    "            for k in range(c1):\n",
    "                mul=mul+ ( mat1[i][k] * mat2[k][j]  )\n",
    "            res.append(mul)\n",
    "        result.append(res)\n",
    "    print(\"Matrix multiplication is :\" ,result)"
   ]
  },
  {
   "cell_type": "markdown",
   "metadata": {},
   "source": [
    "# "
   ]
  },
  {
   "cell_type": "markdown",
   "metadata": {},
   "source": [
    "# 3"
   ]
  },
  {
   "cell_type": "code",
   "execution_count": 4,
   "metadata": {},
   "outputs": [
    {
     "name": "stdout",
     "output_type": "stream",
     "text": [
      "Enter number of rows for mat : 2\n",
      "Enter number of columns for mat : 2\n",
      "Enter elements row wise: \n",
      "1\n",
      "3\n",
      "4\n",
      "2\n",
      "1 3 \n",
      "4 2 \n",
      "Transpose of matrix 1 is [[1, 4], [3, 2]]\n"
     ]
    }
   ],
   "source": [
    "r=int(input(\"Enter number of rows for mat : \"))\n",
    "c=int(input(\"Enter number of columns for mat : \"))\n",
    "mat=[]\n",
    "print(\"Enter elements row wise: \")\n",
    "for i in range(r):          \n",
    "    a =[]\n",
    "    for j in range(c):      \n",
    "         a.append(int(input()))\n",
    "    mat.append(a)\n",
    "    \n",
    "for i in range(r):\n",
    "    for j in range(c):\n",
    "        print(mat[i][j],end = \" \")\n",
    "    print()\n",
    "    \n",
    "tr_matrix=[]\n",
    "\n",
    "for i in range(0,r):\n",
    "    res = []\n",
    "    for j in range(0,c):\n",
    "        res.append(mat[j][i])\n",
    "    tr_matrix.append(res)\n",
    "\n",
    "print (\"Transpose of matrix 1 is\",tr_matrix)"
   ]
  },
  {
   "cell_type": "markdown",
   "metadata": {},
   "source": [
    "# 4"
   ]
  },
  {
   "cell_type": "code",
   "execution_count": 9,
   "metadata": {},
   "outputs": [
    {
     "name": "stdout",
     "output_type": "stream",
     "text": [
      "enter a string : A an apple is the An the\n",
      "['a', 'an', 'an', 'apple', 'is', 'the', 'the']\n"
     ]
    }
   ],
   "source": [
    "str=input(\"enter a string : \")\n",
    "k=str.lower()\n",
    "l=k.split()\n",
    "l.sort()\n",
    "print(l)"
   ]
  },
  {
   "cell_type": "markdown",
   "metadata": {},
   "source": [
    "# 5"
   ]
  },
  {
   "cell_type": "code",
   "execution_count": 21,
   "metadata": {},
   "outputs": [
    {
     "name": "stdout",
     "output_type": "stream",
     "text": [
      "enter a string : Hi !@# i am a @# a g&8\n",
      "Hi  i am a  a g8\n"
     ]
    }
   ],
   "source": [
    "pun=['!','@','#','$','%','^','&','*','(',')','{','}','{','}']\n",
    "str=input(\"enter a string : \")\n",
    "for i in str:\n",
    "    if i in pun:\n",
    "        str=str.replace(i,\"\")\n",
    "print(str)"
   ]
  },
  {
   "cell_type": "code",
   "execution_count": null,
   "metadata": {},
   "outputs": [],
   "source": []
  }
 ],
 "metadata": {
  "kernelspec": {
   "display_name": "Python 3",
   "language": "python",
   "name": "python3"
  },
  "language_info": {
   "codemirror_mode": {
    "name": "ipython",
    "version": 3
   },
   "file_extension": ".py",
   "mimetype": "text/x-python",
   "name": "python",
   "nbconvert_exporter": "python",
   "pygments_lexer": "ipython3",
   "version": "3.8.5"
  }
 },
 "nbformat": 4,
 "nbformat_minor": 4
}
