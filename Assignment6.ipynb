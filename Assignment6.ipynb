{
 "cells": [
  {
   "cell_type": "markdown",
   "metadata": {},
   "source": [
    "# 1"
   ]
  },
  {
   "cell_type": "code",
   "execution_count": 3,
   "metadata": {},
   "outputs": [
    {
     "name": "stdout",
     "output_type": "stream",
     "text": [
      "enter a number\t7\n",
      "0\n",
      "1\n",
      "1\n",
      "2\n",
      "3\n",
      "5\n",
      "8\n"
     ]
    }
   ],
   "source": [
    "def fib(n):\n",
    "    if (n<=1):\n",
    "        return n\n",
    "    else:\n",
    "        return(fib(n-1)+fib(n-2))\n",
    "\n",
    "num=int(input(\"enter a number\\t\"))\n",
    "for i in range(num):\n",
    "    print(fib(i))\n",
    "        \n",
    "    "
   ]
  },
  {
   "cell_type": "markdown",
   "metadata": {},
   "source": [
    "# 2"
   ]
  },
  {
   "cell_type": "code",
   "execution_count": 8,
   "metadata": {},
   "outputs": [
    {
     "name": "stdout",
     "output_type": "stream",
     "text": [
      "enter a number 6\n",
      "720\n"
     ]
    }
   ],
   "source": [
    "def fact(n):\n",
    "    if n==1:\n",
    "        return n\n",
    "    else:\n",
    "        while(n>1):\n",
    "            return (n*fact(n-1))\n",
    "    \n",
    "num=int(input(\"enter a number \"))\n",
    "k=fact(num)\n",
    "print(k)\n"
   ]
  },
  {
   "cell_type": "markdown",
   "metadata": {},
   "source": [
    "# 3"
   ]
  },
  {
   "cell_type": "code",
   "execution_count": 10,
   "metadata": {},
   "outputs": [
    {
     "name": "stdout",
     "output_type": "stream",
     "text": [
      "Input your height in Feet: 2\n",
      "Input your weight in Kilogram: 22\n",
      "Your body mass index is:  5.5\n"
     ]
    }
   ],
   "source": [
    "def bmi(ht,wt):\n",
    "    val=wt/(ht*ht)\n",
    "    return val\n",
    "\n",
    "height = float(input(\"Input your height in Feet: \"))\n",
    "weight = float(input(\"Input your weight in Kilogram: \"))\n",
    "k=bmi(height,weight)\n",
    "print(\"Your body mass index is: \", round(k, 2))"
   ]
  },
  {
   "cell_type": "markdown",
   "metadata": {},
   "source": [
    "# 4"
   ]
  },
  {
   "cell_type": "code",
   "execution_count": 12,
   "metadata": {},
   "outputs": [
    {
     "name": "stdout",
     "output_type": "stream",
     "text": [
      "Input value: 100.12\n",
      "Log value is :  4.6063694665635735\n"
     ]
    }
   ],
   "source": [
    "import math\n",
    "n = float(input(\"Input value: \"))\n",
    "l=math.log(n)\n",
    "print(\"Log value is : \",l)\n"
   ]
  },
  {
   "cell_type": "markdown",
   "metadata": {},
   "source": [
    "# 5"
   ]
  },
  {
   "cell_type": "code",
   "execution_count": 15,
   "metadata": {},
   "outputs": [
    {
     "name": "stdout",
     "output_type": "stream",
     "text": [
      "Cube :  225\n"
     ]
    }
   ],
   "source": [
    "def cube(n):\n",
    "    s=0\n",
    "    for i in range(1,n+1):\n",
    "        s=s+(i*i*i)\n",
    "    return s\n",
    "\n",
    "k=cube(5)\n",
    "print(\"Cube : \",k)\n",
    "        "
   ]
  },
  {
   "cell_type": "code",
   "execution_count": 19,
   "metadata": {},
   "outputs": [
    {
     "name": "stdout",
     "output_type": "stream",
     "text": [
      "Cube :  225\n"
     ]
    }
   ],
   "source": [
    "def cube(n):\n",
    "    if n<=1:\n",
    "        return 1\n",
    "    else:\n",
    "        return n*n*n + cube(n-1)\n",
    "\n",
    "k=cube(5)\n",
    "print(\"Cube : \",k)\n",
    "        "
   ]
  },
  {
   "cell_type": "code",
   "execution_count": null,
   "metadata": {},
   "outputs": [],
   "source": []
  }
 ],
 "metadata": {
  "kernelspec": {
   "display_name": "Python 3",
   "language": "python",
   "name": "python3"
  },
  "language_info": {
   "codemirror_mode": {
    "name": "ipython",
    "version": 3
   },
   "file_extension": ".py",
   "mimetype": "text/x-python",
   "name": "python",
   "nbconvert_exporter": "python",
   "pygments_lexer": "ipython3",
   "version": "3.8.5"
  }
 },
 "nbformat": 4,
 "nbformat_minor": 4
}
