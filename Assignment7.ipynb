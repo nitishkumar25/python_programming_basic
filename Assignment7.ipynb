{
 "cells": [
  {
   "cell_type": "markdown",
   "metadata": {},
   "source": [
    "# 1"
   ]
  },
  {
   "cell_type": "code",
   "execution_count": 4,
   "metadata": {},
   "outputs": [
    {
     "name": "stdout",
     "output_type": "stream",
     "text": [
      "Enter number of elements\t3\n",
      "2\n",
      "3\n",
      "4\n",
      "Sum :  9\n"
     ]
    }
   ],
   "source": [
    "l=[]\n",
    "n=int(input(\"Enter number of elements\\t\"))\n",
    "for i in range(n):\n",
    "    l.append(int(input()))\n",
    "print(\"Sum : \",sum(l))"
   ]
  },
  {
   "cell_type": "markdown",
   "metadata": {},
   "source": [
    "# 2"
   ]
  },
  {
   "cell_type": "code",
   "execution_count": 5,
   "metadata": {},
   "outputs": [
    {
     "name": "stdout",
     "output_type": "stream",
     "text": [
      "Enter number of elements\t4\n",
      "2\n",
      "33\n",
      "11\n",
      "22\n",
      "Maximum :  33\n"
     ]
    }
   ],
   "source": [
    "l=[]\n",
    "n=int(input(\"Enter number of elements\\t\"))\n",
    "for i in range(n):\n",
    "    l.append(int(input()))\n",
    "print(\"Maximum : \",max(l))"
   ]
  },
  {
   "cell_type": "markdown",
   "metadata": {},
   "source": [
    "# 3"
   ]
  },
  {
   "cell_type": "code",
   "execution_count": 8,
   "metadata": {},
   "outputs": [
    {
     "name": "stdout",
     "output_type": "stream",
     "text": [
      "Enter number of elements\t4\n",
      "2\n",
      "3\n",
      "4\n",
      "5\n",
      "Enter rotation length\t3\n",
      "list after rotation : [5, 2, 3, 4]\n"
     ]
    }
   ],
   "source": [
    "def rotate_array(list1,a):\n",
    "    l1=[]\n",
    "    l2=[]\n",
    "    k=[]\n",
    "    l1=list1[:a]\n",
    "    l2=list1[a:]\n",
    "    k=l2+l1\n",
    "    return k\n",
    "\n",
    "l=[]\n",
    "n=int(input(\"Enter number of elements\\t\"))\n",
    "for i in range(n):\n",
    "    l.append(int(input()))\n",
    "a1=int(input(\"Enter rotation length\\t\"))\n",
    "k=rotate_array(l,a1)\n",
    "print (\"list after rotation :\" ,k)"
   ]
  },
  {
   "cell_type": "markdown",
   "metadata": {},
   "source": [
    "# 4"
   ]
  },
  {
   "cell_type": "code",
   "execution_count": 20,
   "metadata": {},
   "outputs": [
    {
     "name": "stdout",
     "output_type": "stream",
     "text": [
      "Enter number of elements\t5\n",
      "2\n",
      "3\n",
      "9\n",
      "7\n",
      "4\n",
      "[9, 7, 4, 2, 3]\n"
     ]
    }
   ],
   "source": [
    "l=[]\n",
    "l1=[]\n",
    "n=int(input(\"Enter number of elements\\t\"))\n",
    "for i in range(n):\n",
    "    l.append(int(input()))\n",
    "k=int(n/2)\n",
    "l1=l[k:]+l[:k]\n",
    "print (l1)\n"
   ]
  },
  {
   "cell_type": "markdown",
   "metadata": {},
   "source": [
    "# 5"
   ]
  },
  {
   "cell_type": "code",
   "execution_count": 55,
   "metadata": {},
   "outputs": [
    {
     "name": "stdout",
     "output_type": "stream",
     "text": [
      "It is monotonic\n"
     ]
    }
   ],
   "source": [
    "def monotonic(list1):\n",
    "    for i in range(len(list1)-1):\n",
    "        if list1[i]>=list1[i+1]:\n",
    "            flag1=1\n",
    "        else:\n",
    "            flag1=0\n",
    "            break\n",
    "    i=0\n",
    "    for i in range(len(list1)-1):\n",
    "        if list1[i]<=list1[i+1]:\n",
    "            flag2=1\n",
    "        else:\n",
    "            flag2=0\n",
    "            break\n",
    "    return (flag1+flag2)     \n",
    "\n",
    "l= [1,2,5,6,7]\n",
    "x= monotonic(l)\n",
    "if (x==1):\n",
    "    print(\"It is monotonic\")\n",
    "else:\n",
    "    print(\"It is not monotonic\")"
   ]
  }
 ],
 "metadata": {
  "kernelspec": {
   "display_name": "Python 3",
   "language": "python",
   "name": "python3"
  },
  "language_info": {
   "codemirror_mode": {
    "name": "ipython",
    "version": 3
   },
   "file_extension": ".py",
   "mimetype": "text/x-python",
   "name": "python",
   "nbconvert_exporter": "python",
   "pygments_lexer": "ipython3",
   "version": "3.8.5"
  }
 },
 "nbformat": 4,
 "nbformat_minor": 4
}
