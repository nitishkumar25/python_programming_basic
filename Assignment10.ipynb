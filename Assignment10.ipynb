{
 "cells": [
  {
   "cell_type": "markdown",
   "metadata": {},
   "source": [
    "# 1"
   ]
  },
  {
   "cell_type": "code",
   "execution_count": 1,
   "metadata": {},
   "outputs": [
    {
     "name": "stdout",
     "output_type": "stream",
     "text": [
      "Sum of elements of a list is: 15\n"
     ]
    }
   ],
   "source": [
    "l=[1,2,3,4,5]\n",
    "s=sum(l)\n",
    "print(\"Sum of elements of a list is:\",s)"
   ]
  },
  {
   "cell_type": "markdown",
   "metadata": {},
   "source": [
    "# 2"
   ]
  },
  {
   "cell_type": "code",
   "execution_count": 2,
   "metadata": {},
   "outputs": [
    {
     "name": "stdout",
     "output_type": "stream",
     "text": [
      "Multtiplication of list elements is :  720\n"
     ]
    }
   ],
   "source": [
    "l=[2,3,4,5,6]\n",
    "mul=1\n",
    "for i in l:\n",
    "    mul=mul*i\n",
    "print(\"Multtiplication of list elements is : \",mul)"
   ]
  },
  {
   "cell_type": "markdown",
   "metadata": {},
   "source": [
    "# 3"
   ]
  },
  {
   "cell_type": "code",
   "execution_count": 7,
   "metadata": {},
   "outputs": [
    {
     "name": "stdout",
     "output_type": "stream",
     "text": [
      "Minimum elements of list is: 1\n"
     ]
    }
   ],
   "source": [
    "l=[1,2,3,4,5]\n",
    "s=min(l)\n",
    "print(\"Minimum elements of list is:\",s)"
   ]
  },
  {
   "cell_type": "markdown",
   "metadata": {},
   "source": [
    "# 4"
   ]
  },
  {
   "cell_type": "code",
   "execution_count": 6,
   "metadata": {},
   "outputs": [
    {
     "name": "stdout",
     "output_type": "stream",
     "text": [
      "Maximum elements of list is: 5\n"
     ]
    }
   ],
   "source": [
    "l=[1,2,3,4,5]\n",
    "s=max(l)\n",
    "print(\"Maximum elements of list is:\",s)"
   ]
  },
  {
   "cell_type": "markdown",
   "metadata": {},
   "source": [
    "# 5"
   ]
  },
  {
   "cell_type": "code",
   "execution_count": 20,
   "metadata": {},
   "outputs": [
    {
     "name": "stdout",
     "output_type": "stream",
     "text": [
      "[3, 4, 11, 12, 15, 18, 22, 28, 32]\n",
      "Second highest element is : 28\n"
     ]
    }
   ],
   "source": [
    "l=[11,12,3,4,15,22,18,28,32]\n",
    "l.sort()\n",
    "print(l)\n",
    "k=len(l)\n",
    "print(\"Second highest element is :\",l[-2])"
   ]
  },
  {
   "cell_type": "markdown",
   "metadata": {},
   "source": [
    "# 6"
   ]
  },
  {
   "cell_type": "code",
   "execution_count": 22,
   "metadata": {},
   "outputs": [
    {
     "name": "stdout",
     "output_type": "stream",
     "text": [
      "Enter nth element to find highest : 3\n",
      "[3, 4, 11, 12, 15, 18, 22, 28, 32]\n",
      "Nth highest element is : 22\n"
     ]
    }
   ],
   "source": [
    "n=int(input(\"Enter nth element to find highest : \"))\n",
    "l=[11,12,3,4,15,22,18,28,32]\n",
    "l.sort()\n",
    "print(l)\n",
    "print(\"Nth highest element is :\",l[-n])"
   ]
  },
  {
   "cell_type": "markdown",
   "metadata": {},
   "source": [
    "# 7"
   ]
  },
  {
   "cell_type": "code",
   "execution_count": 25,
   "metadata": {},
   "outputs": [
    {
     "name": "stdout",
     "output_type": "stream",
     "text": [
      "[12, 4, 22, 18, 28, 32]\n"
     ]
    }
   ],
   "source": [
    "l=[11,12,3,4,15,22,18,28,32]\n",
    "k=[n for n in l if n%2==0]\n",
    "print(k)"
   ]
  },
  {
   "cell_type": "markdown",
   "metadata": {},
   "source": [
    "# 8"
   ]
  },
  {
   "cell_type": "code",
   "execution_count": 27,
   "metadata": {},
   "outputs": [
    {
     "name": "stdout",
     "output_type": "stream",
     "text": [
      "[11, 3, 15]\n"
     ]
    }
   ],
   "source": [
    "l=[11,12,3,4,15,22,18,28,32]\n",
    "k=[n for n in l if n%2!=0]\n",
    "print(k)"
   ]
  },
  {
   "cell_type": "markdown",
   "metadata": {},
   "source": [
    "# 9"
   ]
  },
  {
   "cell_type": "code",
   "execution_count": 32,
   "metadata": {},
   "outputs": [
    {
     "name": "stdout",
     "output_type": "stream",
     "text": [
      "[11, 12, 3, 4, 15, 22, 18, 28, 32]\n"
     ]
    }
   ],
   "source": [
    "l=[11,12,3,4,[],15,22,18,[],28,32]\n",
    "k=[n for n in l if n!=[]]\n",
    "print(k)"
   ]
  },
  {
   "cell_type": "markdown",
   "metadata": {},
   "source": [
    "# 10"
   ]
  },
  {
   "cell_type": "code",
   "execution_count": 34,
   "metadata": {},
   "outputs": [
    {
     "name": "stdout",
     "output_type": "stream",
     "text": [
      "[11, 12, 3, 4, 15, 22, 18, 28, 32]\n"
     ]
    }
   ],
   "source": [
    "l=[11,12,3,4,15,22,18,28,32]\n",
    "l1=l.copy()\n",
    "print(l1)"
   ]
  },
  {
   "cell_type": "markdown",
   "metadata": {},
   "source": [
    "# 11"
   ]
  },
  {
   "cell_type": "code",
   "execution_count": 41,
   "metadata": {},
   "outputs": [
    {
     "name": "stdout",
     "output_type": "stream",
     "text": [
      "Enter the element whose occurence is to be counted : 3\n",
      "3 has occured 3 times\n"
     ]
    }
   ],
   "source": [
    "l=[11,12,3,4,15,22,18,28,32,3,22,2,3]\n",
    "k=int(input(\"Enter the element whose occurence is to be counted : \"))\n",
    "x=l.count(k)\n",
    "print(\"%d has occured %d times\" %(k,x))"
   ]
  },
  {
   "cell_type": "code",
   "execution_count": null,
   "metadata": {},
   "outputs": [],
   "source": []
  }
 ],
 "metadata": {
  "kernelspec": {
   "display_name": "Python 3",
   "language": "python",
   "name": "python3"
  },
  "language_info": {
   "codemirror_mode": {
    "name": "ipython",
    "version": 3
   },
   "file_extension": ".py",
   "mimetype": "text/x-python",
   "name": "python",
   "nbconvert_exporter": "python",
   "pygments_lexer": "ipython3",
   "version": "3.8.5"
  }
 },
 "nbformat": 4,
 "nbformat_minor": 4
}
