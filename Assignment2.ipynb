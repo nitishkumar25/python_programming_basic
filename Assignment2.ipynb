{
 "cells": [
  {
   "cell_type": "markdown",
   "metadata": {},
   "source": [
    "Sol 1"
   ]
  },
  {
   "cell_type": "code",
   "execution_count": 5,
   "metadata": {},
   "outputs": [
    {
     "name": "stdout",
     "output_type": "stream",
     "text": [
      "enter length in km 3\n",
      "3.00 km to miles is 1.86\n"
     ]
    }
   ],
   "source": [
    "km=float(input(\"enter length in km \"))\n",
    "km_to_mile = 0.621371*km\n",
    "print (\"%0.2f km to miles is %0.2f\"%(km,km_to_mile))"
   ]
  },
  {
   "cell_type": "markdown",
   "metadata": {},
   "source": [
    "Sol 2"
   ]
  },
  {
   "cell_type": "code",
   "execution_count": 1,
   "metadata": {},
   "outputs": [
    {
     "name": "stdout",
     "output_type": "stream",
     "text": [
      "enter temperature in celsius 38\n",
      "38.00 Celsius in Fahrenheit is 100.40\n"
     ]
    }
   ],
   "source": [
    "cel=float(input(\"enter temperature in celsius \"))\n",
    "far = ((cel*9)/5) + 32\n",
    "print (\"%0.2f Celsius in Fahrenheit is %0.2f\" %(cel,far))"
   ]
  },
  {
   "cell_type": "markdown",
   "metadata": {},
   "source": [
    "Sol 3"
   ]
  },
  {
   "cell_type": "code",
   "execution_count": 3,
   "metadata": {},
   "outputs": [
    {
     "name": "stdout",
     "output_type": "stream",
     "text": [
      "enter year: 2021\n",
      "enter month: 3\n",
      "     March 2021\n",
      "Mo Tu We Th Fr Sa Su\n",
      " 1  2  3  4  5  6  7\n",
      " 8  9 10 11 12 13 14\n",
      "15 16 17 18 19 20 21\n",
      "22 23 24 25 26 27 28\n",
      "29 30 31\n",
      "\n"
     ]
    }
   ],
   "source": [
    "import calendar   \n",
    "year = int(input(\"enter year: \"))  \n",
    "mnth = int(input(\"enter month: \"))  \n",
    "print(calendar.month(year,mnth)) "
   ]
  },
  {
   "cell_type": "markdown",
   "metadata": {},
   "source": [
    "Sol 4"
   ]
  },
  {
   "cell_type": "code",
   "execution_count": 5,
   "metadata": {},
   "outputs": [
    {
     "name": "stdout",
     "output_type": "stream",
     "text": [
      "enter a: 1\n",
      "enter b: 6\n",
      "enter c: 5\n",
      "Two solutions are  (-1+0j) (-5+0j)\n"
     ]
    }
   ],
   "source": [
    "import cmath\n",
    "a = int(input(\"enter a: \")) \n",
    "b = int(input(\"enter b: \")) \n",
    "c = int(input(\"enter c: \")) \n",
    "d=(b*b)-(4*a*c)\n",
    "s1= (-b + cmath.sqrt(d)) / (2*a)\n",
    "s2= (-b - cmath.sqrt(d)) / (2*a)\n",
    "print (\"Two solutions are \",s1,s2)"
   ]
  },
  {
   "cell_type": "markdown",
   "metadata": {},
   "source": [
    "Sol 5"
   ]
  },
  {
   "cell_type": "code",
   "execution_count": 6,
   "metadata": {},
   "outputs": [
    {
     "name": "stdout",
     "output_type": "stream",
     "text": [
      "a : 3\n",
      "b : 5\n"
     ]
    }
   ],
   "source": [
    "a=5\n",
    "b=3\n",
    "a,b = b,a\n",
    "print('a :',a)\n",
    "print('b :',b)"
   ]
  }
 ],
 "metadata": {
  "kernelspec": {
   "display_name": "Python 3",
   "language": "python",
   "name": "python3"
  },
  "language_info": {
   "codemirror_mode": {
    "name": "ipython",
    "version": 3
   },
   "file_extension": ".py",
   "mimetype": "text/x-python",
   "name": "python",
   "nbconvert_exporter": "python",
   "pygments_lexer": "ipython3",
   "version": "3.8.5"
  }
 },
 "nbformat": 4,
 "nbformat_minor": 4
}
